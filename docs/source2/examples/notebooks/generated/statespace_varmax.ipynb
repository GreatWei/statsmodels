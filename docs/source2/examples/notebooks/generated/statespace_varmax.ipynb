{
 "cells": [
  {
   "cell_type": "markdown",
   "metadata": {},
   "source": [
    "# VARMAX models\n",
    "\n",
    "This is a brief introduction notebook to VARMAX models in statsmodels. The VARMAX model is generically specified as:\n",
    "$$\n",
    "y_t = \\nu + A_1 y_{t-1} + \\dots + A_p y_{t-p} + B x_t + \\epsilon_t +\n",
    "M_1 \\epsilon_{t-1} + \\dots M_q \\epsilon_{t-q}\n",
    "$$\n",
    "\n",
    "where $y_t$ is a $\\text{k_endog} \\times 1$ vector."
   ]
  },
  {
   "cell_type": "code",
   "execution_count": 1,
   "metadata": {
    "collapsed": true
   },
   "outputs": [],
   "source": [
    "%matplotlib inline"
   ]
  },
  {
   "cell_type": "code",
   "execution_count": 2,
   "metadata": {
    "collapsed": false
   },
   "outputs": [],
   "source": [
    "import numpy as np\n",
    "import pandas as pd\n",
    "import statsmodels.api as sm\n",
    "import matplotlib.pyplot as plt"
   ]
  },
  {
   "cell_type": "code",
   "execution_count": 3,
   "metadata": {
    "collapsed": false
   },
   "outputs": [],
   "source": [
    "dta = sm.datasets.webuse('lutkepohl2', 'https://www.stata-press.com/data/r12/')\n",
    "dta.index = dta.qtr\n",
    "endog = dta.loc['1960-04-01':'1978-10-01', ['dln_inv', 'dln_inc', 'dln_consump']]"
   ]
  },
  {
   "cell_type": "markdown",
   "metadata": {},
   "source": [
    "## Model specification\n",
    "\n",
    "The `VARMAX` class in statsmodels allows estimation of VAR, VMA, and VARMA models (through the `order` argument), optionally with a constant term (via the `trend` argument). Exogenous regressors may also be included (as usual in statsmodels, by the `exog` argument), and in this way a time trend may be added. Finally, the class allows measurement error (via the `measurement_error` argument) and allows specifying either a diagonal or unstructured innovation covariance matrix (via the `error_cov_type` argument)."
   ]
  },
  {
   "cell_type": "markdown",
   "metadata": {},
   "source": [
    "## Example 1: VAR\n",
    "\n",
    "Below is a simple VARX(2) model in two endogenous variables and an exogenous series, but no constant term. Notice that we needed to allow for more iterations than the default (which is `maxiter=50`) in order for the likelihood estimation to converge. This is not unusual in VAR models which have to estimate a large number of parameters, often on a relatively small number of time series: this model, for example, estimates 27 parameters off of 75 observations of 3 variables."
   ]
  },
  {
   "cell_type": "code",
   "execution_count": 4,
   "metadata": {
    "collapsed": false
   },
   "outputs": [
    {
     "name": "stderr",
     "output_type": "stream",
     "text": [
      "C:\\ProgramData\\Anaconda3\\lib\\site-packages\\statsmodels\\tsa\\base\\tsa_model.py:165: ValueWarning: No frequency information was provided, so inferred frequency QS-OCT will be used.\n",
      "  % freq, ValueWarning)\n"
     ]
    },
    {
     "name": "stdout",
     "output_type": "stream",
     "text": [
      "                             Statespace Model Results                             \n",
      "==================================================================================\n",
      "Dep. Variable:     ['dln_inv', 'dln_inc']   No. Observations:                   75\n",
      "Model:                            VARX(2)   Log Likelihood                 361.038\n",
      "Date:                    Tue, 24 Dec 2019   AIC                           -696.075\n",
      "Time:                            15:05:43   BIC                           -665.948\n",
      "Sample:                        04-01-1960   HQIC                          -684.046\n",
      "                             - 10-01-1978                                         \n",
      "Covariance Type:                      opg                                         \n",
      "===================================================================================\n",
      "Ljung-Box (Q):                61.32, 39.29   Jarque-Bera (JB):          11.38, 2.39\n",
      "Prob(Q):                        0.02, 0.50   Prob(JB):                   0.00, 0.30\n",
      "Heteroskedasticity (H):         0.45, 0.40   Skew:                      0.16, -0.38\n",
      "Prob(H) (two-sided):            0.05, 0.03   Kurtosis:                   4.88, 3.44\n",
      "                            Results for equation dln_inv                            \n",
      "====================================================================================\n",
      "                       coef    std err          z      P>|z|      [0.025      0.975]\n",
      "------------------------------------------------------------------------------------\n",
      "L1.dln_inv          -0.2396      0.093     -2.575      0.010      -0.422      -0.057\n",
      "L1.dln_inc           0.2937      0.449      0.654      0.513      -0.586       1.174\n",
      "L2.dln_inv          -0.1650      0.155     -1.063      0.288      -0.469       0.139\n",
      "L2.dln_inc           0.0834      0.422      0.198      0.843      -0.744       0.911\n",
      "beta.dln_consump     0.9441      0.640      1.476      0.140      -0.310       2.198\n",
      "                            Results for equation dln_inc                            \n",
      "====================================================================================\n",
      "                       coef    std err          z      P>|z|      [0.025      0.975]\n",
      "------------------------------------------------------------------------------------\n",
      "L1.dln_inv           0.0634      0.036      1.775      0.076      -0.007       0.134\n",
      "L1.dln_inc           0.0835      0.107      0.779      0.436      -0.126       0.293\n",
      "L2.dln_inv           0.0105      0.033      0.318      0.750      -0.054       0.075\n",
      "L2.dln_inc           0.0365      0.134      0.272      0.786      -0.227       0.300\n",
      "beta.dln_consump     0.7688      0.112      6.848      0.000       0.549       0.989\n",
      "                                  Error covariance matrix                                   \n",
      "============================================================================================\n",
      "                               coef    std err          z      P>|z|      [0.025      0.975]\n",
      "--------------------------------------------------------------------------------------------\n",
      "sqrt.var.dln_inv             0.0434      0.004     12.284      0.000       0.036       0.050\n",
      "sqrt.cov.dln_inv.dln_inc  5.848e-05      0.002      0.029      0.977      -0.004       0.004\n",
      "sqrt.var.dln_inc             0.0109      0.001     11.226      0.000       0.009       0.013\n",
      "============================================================================================\n",
      "\n",
      "Warnings:\n",
      "[1] Covariance matrix calculated using the outer product of gradients (complex-step).\n"
     ]
    }
   ],
   "source": [
    "exog = endog['dln_consump']\n",
    "mod = sm.tsa.VARMAX(endog[['dln_inv', 'dln_inc']], order=(2,0), trend='n', exog=exog)\n",
    "res = mod.fit(maxiter=1000, disp=False)\n",
    "print(res.summary())"
   ]
  },
  {
   "cell_type": "markdown",
   "metadata": {},
   "source": [
    "From the estimated VAR model, we can plot the impulse response functions of the endogenous variables."
   ]
  },
  {
   "cell_type": "code",
   "execution_count": 5,
   "metadata": {
    "collapsed": false
   },
   "outputs": [
    {
     "data": {
      "image/png": "[encoded data removed]",
      "text/plain": [
       "<Figure size 936x216 with 1 Axes>"
      ]
     },
     "metadata": {
      "needs_background": "light"
     },
     "output_type": "display_data"
    }
   ],
   "source": [
    "ax = res.impulse_responses(10, orthogonalized=True).plot(figsize=(13,3))\n",
    "ax.set(xlabel='t', title='Responses to a shock to `dln_inv`');"
   ]
  },
  {
   "cell_type": "markdown",
   "metadata": {},
   "source": [
    "## Example 2: VMA\n",
    "\n",
    "A vector moving average model can also be formulated. Below we show a VMA(2) on the same data, but where the innovations to the process are uncorrelated. In this example we leave out the exogenous regressor but now include the constant term."
   ]
  },
  {
   "cell_type": "code",
   "execution_count": 6,
   "metadata": {
    "collapsed": false
   },
   "outputs": [
    {
     "name": "stderr",
     "output_type": "stream",
     "text": [
      "C:\\ProgramData\\Anaconda3\\lib\\site-packages\\statsmodels\\tsa\\base\\tsa_model.py:165: ValueWarning: No frequency information was provided, so inferred frequency QS-OCT will be used.\n",
      "  % freq, ValueWarning)\n"
     ]
    },
    {
     "name": "stdout",
     "output_type": "stream",
     "text": [
      "                             Statespace Model Results                             \n",
      "==================================================================================\n",
      "Dep. Variable:     ['dln_inv', 'dln_inc']   No. Observations:                   75\n",
      "Model:                             VMA(2)   Log Likelihood                 353.887\n",
      "                              + intercept   AIC                           -683.775\n",
      "Date:                    Tue, 24 Dec 2019   BIC                           -655.965\n",
      "Time:                            15:05:52   HQIC                          -672.671\n",
      "Sample:                        04-01-1960                                         \n",
      "                             - 10-01-1978                                         \n",
      "Covariance Type:                      opg                                         \n",
      "===================================================================================\n",
      "Ljung-Box (Q):                68.79, 39.25   Jarque-Bera (JB):         12.51, 13.94\n",
      "Prob(Q):                        0.00, 0.50   Prob(JB):                   0.00, 0.00\n",
      "Heteroskedasticity (H):         0.44, 0.81   Skew:                      0.05, -0.49\n",
      "Prob(H) (two-sided):            0.04, 0.59   Kurtosis:                   5.00, 4.87\n",
      "                           Results for equation dln_inv                          \n",
      "=================================================================================\n",
      "                    coef    std err          z      P>|z|      [0.025      0.975]\n",
      "---------------------------------------------------------------------------------\n",
      "intercept         0.0182      0.005      3.812      0.000       0.009       0.028\n",
      "L1.e(dln_inv)    -0.2616      0.106     -2.478      0.013      -0.468      -0.055\n",
      "L1.e(dln_inc)     0.5085      0.630      0.807      0.420      -0.726       1.743\n",
      "L2.e(dln_inv)     0.0317      0.148      0.214      0.831      -0.259       0.322\n",
      "L2.e(dln_inc)     0.1905      0.476      0.400      0.689      -0.742       1.123\n",
      "                           Results for equation dln_inc                          \n",
      "=================================================================================\n",
      "                    coef    std err          z      P>|z|      [0.025      0.975]\n",
      "---------------------------------------------------------------------------------\n",
      "intercept         0.0207      0.002     13.018      0.000       0.018       0.024\n",
      "L1.e(dln_inv)     0.0476      0.042      1.141      0.254      -0.034       0.129\n",
      "L1.e(dln_inc)    -0.0709      0.140     -0.505      0.614      -0.346       0.204\n",
      "L2.e(dln_inv)     0.0181      0.042      0.427      0.670      -0.065       0.101\n",
      "L2.e(dln_inc)     0.1246      0.154      0.811      0.417      -0.177       0.426\n",
      "                             Error covariance matrix                              \n",
      "==================================================================================\n",
      "                     coef    std err          z      P>|z|      [0.025      0.975]\n",
      "----------------------------------------------------------------------------------\n",
      "sigma2.dln_inv     0.0020      0.000      7.359      0.000       0.001       0.003\n",
      "sigma2.dln_inc     0.0001   2.33e-05      5.829      0.000       9e-05       0.000\n",
      "==================================================================================\n",
      "\n",
      "Warnings:\n",
      "[1] Covariance matrix calculated using the outer product of gradients (complex-step).\n"
     ]
    }
   ],
   "source": [
    "mod = sm.tsa.VARMAX(endog[['dln_inv', 'dln_inc']], order=(0,2), error_cov_type='diagonal')\n",
    "res = mod.fit(maxiter=1000, disp=False)\n",
    "print(res.summary())"
   ]
  },
  {
   "cell_type": "markdown",
   "metadata": {},
   "source": [
    "## Caution: VARMA(p,q) specifications\n",
    "\n",
    "Although the model allows estimating VARMA(p,q) specifications, these models are not identified without additional restrictions on the representation matrices, which are not built-in. For this reason, it is recommended that the user proceed with error (and indeed a warning is issued when these models are specified). Nonetheless, they may in some circumstances provide useful information."
   ]
  },
  {
   "cell_type": "code",
   "execution_count": 7,
   "metadata": {
    "collapsed": false
   },
   "outputs": [
    {
     "name": "stderr",
     "output_type": "stream",
     "text": [
      "C:\\ProgramData\\Anaconda3\\lib\\site-packages\\statsmodels\\tsa\\statespace\\varmax.py:159: EstimationWarning: Estimation of VARMA(p,q) models is not generically robust, due especially to identification issues.\n",
      "  EstimationWarning)\n",
      "C:\\ProgramData\\Anaconda3\\lib\\site-packages\\statsmodels\\tsa\\base\\tsa_model.py:165: ValueWarning: No frequency information was provided, so inferred frequency QS-OCT will be used.\n",
      "  % freq, ValueWarning)\n"
     ]
    },
    {
     "name": "stdout",
     "output_type": "stream",
     "text": [
      "                             Statespace Model Results                             \n",
      "==================================================================================\n",
      "Dep. Variable:     ['dln_inv', 'dln_inc']   No. Observations:                   75\n",
      "Model:                         VARMA(1,1)   Log Likelihood                 354.284\n",
      "                              + intercept   AIC                           -682.567\n",
      "Date:                    Tue, 24 Dec 2019   BIC                           -652.440\n",
      "Time:                            15:05:56   HQIC                          -670.538\n",
      "Sample:                        04-01-1960                                         \n",
      "                             - 10-01-1978                                         \n",
      "Covariance Type:                      opg                                         \n",
      "===================================================================================\n",
      "Ljung-Box (Q):                68.75, 39.04   Jarque-Bera (JB):         10.79, 14.11\n",
      "Prob(Q):                        0.00, 0.51   Prob(JB):                   0.00, 0.00\n",
      "Heteroskedasticity (H):         0.43, 0.91   Skew:                      0.00, -0.46\n",
      "Prob(H) (two-sided):            0.04, 0.81   Kurtosis:                   4.86, 4.92\n",
      "                           Results for equation dln_inv                          \n",
      "=================================================================================\n",
      "                    coef    std err          z      P>|z|      [0.025      0.975]\n",
      "---------------------------------------------------------------------------------\n",
      "intercept         0.0110      0.068      0.162      0.872      -0.122       0.144\n",
      "L1.dln_inv       -0.0087      0.719     -0.012      0.990      -1.419       1.401\n",
      "L1.dln_inc        0.3609      2.844      0.127      0.899      -5.213       5.935\n",
      "L1.e(dln_inv)    -0.2508      0.731     -0.343      0.731      -1.683       1.182\n",
      "L1.e(dln_inc)     0.1263      3.086      0.041      0.967      -5.922       6.175\n",
      "                           Results for equation dln_inc                          \n",
      "=================================================================================\n",
      "                    coef    std err          z      P>|z|      [0.025      0.975]\n",
      "---------------------------------------------------------------------------------\n",
      "intercept         0.0165      0.029      0.580      0.562      -0.039       0.072\n",
      "L1.dln_inv       -0.0334      0.286     -0.117      0.907      -0.595       0.528\n",
      "L1.dln_inc        0.2318      1.160      0.200      0.842      -2.042       2.506\n",
      "L1.e(dln_inv)     0.0887      0.293      0.303      0.762      -0.485       0.663\n",
      "L1.e(dln_inc)    -0.2359      1.192     -0.198      0.843      -2.573       2.101\n",
      "                                  Error covariance matrix                                   \n",
      "============================================================================================\n",
      "                               coef    std err          z      P>|z|      [0.025      0.975]\n",
      "--------------------------------------------------------------------------------------------\n",
      "sqrt.var.dln_inv             0.0449      0.003     14.533      0.000       0.039       0.051\n",
      "sqrt.cov.dln_inv.dln_inc     0.0017      0.003      0.646      0.518      -0.003       0.007\n",
      "sqrt.var.dln_inc             0.0116      0.001     11.662      0.000       0.010       0.013\n",
      "============================================================================================\n",
      "\n",
      "Warnings:\n",
      "[1] Covariance matrix calculated using the outer product of gradients (complex-step).\n"
     ]
    }
   ],
   "source": [
    "mod = sm.tsa.VARMAX(endog[['dln_inv', 'dln_inc']], order=(1,1))\n",
    "res = mod.fit(maxiter=1000, disp=False)\n",
    "print(res.summary())"
   ]
  }
 ],
 "metadata": {
  "kernelspec": {
   "display_name": "Python 3",
   "language": "python",
   "name": "python3"
  },
  "language_info": {
   "codemirror_mode": {
    "name": "ipython",
    "version": 3
   },
   "file_extension": ".py",
   "mimetype": "text/x-python",
   "name": "python",
   "nbconvert_exporter": "python",
   "pygments_lexer": "ipython3",
   "version": "3.7.1"
  }
 },
 "nbformat": 4,
 "nbformat_minor": 0
}
